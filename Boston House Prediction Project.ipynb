{
 "cells": [
  {
   "cell_type": "markdown",
   "metadata": {
    "id": "Oq9OIkpjU3hr"
   },
   "source": [
    "## Decision trees are generally used for classification problems. But it can also be used for regression problems by grouping the dependent variable (continuous) into buckets. <code>DecisionTreeRegressor()</code> from the scikit-learn library helps us to use decision trees for regression problems. The implementation is similar to <code>DecisionTreeClassifier()</code>.\n",
    "\n",
    "# <b> The Boston Housing Dataset is a derived from information collected by the U.S. Census Service concerning housing in the area of Boston MA. The following describes the dataset columns:\n",
    "\n",
    "* CRIM - per capita crime rate by town\n",
    "* ZN - proportion of residential land zoned for lots over 25,000 sq.ft.\n",
    "* INDUS - proportion of non-retail business acres per town.\n",
    "* CHAS - Charles River dummy variable (1 if tract bounds river; 0 otherwise)\n",
    "* NOX - nitric oxides concentration (parts per 10 million)\n",
    "* RM - average number of rooms per dwelling\n",
    "* AGE - proportion of owner-occupied units built prior to 1940\n",
    "* DIS - weighted distances to five Boston employment centres\n",
    "* RAD - index of accessibility to radial highways\n",
    "* TAX - full-value property-tax rate per \\$10,000\n",
    "* PTRATIO - pupil-teacher ratio by town\n",
    "* B - 1000(Bk - 0.63)^2 where Bk is the proportion of blacks by town\n",
    "* LSTAT - % lower status of the population\n",
    "* MEDV - Median value of owner-occupied homes in $1000's\n",
    "\n",
    "## <b>Here MEDV is the continuous dependent variable.\n",
    "\n",
    "## Build a predictor for MEDV using decision tree algorithm.\n",
    "\n",
    "## Measure the performance of the model using regression evaluation metrics."
   ]
  },
  {
   "cell_type": "code",
   "execution_count": 3,
   "metadata": {
    "executionInfo": {
     "elapsed": 1364,
     "status": "ok",
     "timestamp": 1617956087587,
     "user": {
      "displayName": "Shirsh Verma",
      "photoUrl": "https://lh3.googleusercontent.com/a-/AOh14GhPLpEyJ0Len-wf-GYu2XCjcBmBwN36DYW6um_AoA=s64",
      "userId": "01160753604566297810"
     },
     "user_tz": -330
    },
    "id": "ItU9EJZErMQs"
   },
   "outputs": [],
   "source": [
    "import pandas as pd\n",
    "from sklearn.metrics import accuracy_score, auc\n",
    "from sklearn.model_selection import train_test_split\n",
    "from sklearn.tree import DecisionTreeRegressor"
   ]
  },
  {
   "cell_type": "code",
   "execution_count": 4,
   "metadata": {},
   "outputs": [
    {
     "name": "stdout",
     "output_type": "stream",
     "text": [
      "D:\\Machine Learning\n"
     ]
    }
   ],
   "source": [
    "cd .."
   ]
  },
  {
   "cell_type": "code",
   "execution_count": 5,
   "metadata": {},
   "outputs": [
    {
     "name": "stdout",
     "output_type": "stream",
     "text": [
      "[WinError 2] The system cannot find the file specified: 'Machine Learning'\n",
      "D:\\Machine Learning\n"
     ]
    }
   ],
   "source": [
    "cd Machine Learning"
   ]
  },
  {
   "cell_type": "code",
   "execution_count": 6,
   "metadata": {},
   "outputs": [
    {
     "name": "stdout",
     "output_type": "stream",
     "text": [
      " Volume in drive D has no label.\n",
      " Volume Serial Number is 06DA-8863\n",
      "\n",
      " Directory of D:\\Machine Learning\n",
      "\n",
      "05/17/2022  08:33 AM    <DIR>          .\n",
      "05/17/2022  08:33 AM    <DIR>          ..\n",
      "05/05/2022  12:05 PM    <DIR>          .ipynb_checkpoints\n",
      "05/17/2022  09:33 AM    <DIR>          Boston Dataset\n",
      "05/05/2022  12:55 PM             1,649 petrol_consumption.csv\n",
      "05/05/2022  07:06 PM            11,259 petrol_consumption.xlsx\n",
      "05/04/2022  10:02 PM            94,187 Student Score Prediction Based on Number of Hours they Studied.ipynb\n",
      "05/11/2022  12:14 AM    <DIR>          Students record\n",
      "04/30/2022  12:05 AM           185,227 Untitled.ipynb\n",
      "05/10/2022  10:58 AM           101,544 Untitled1.ipynb\n",
      "               5 File(s)        393,866 bytes\n",
      "               5 Dir(s)  239,270,653,952 bytes free\n"
     ]
    }
   ],
   "source": [
    "ls"
   ]
  },
  {
   "cell_type": "code",
   "execution_count": 7,
   "metadata": {},
   "outputs": [
    {
     "name": "stdout",
     "output_type": "stream",
     "text": [
      "D:\\Machine Learning\\Boston Dataset\n"
     ]
    }
   ],
   "source": [
    "cd Boston Dataset"
   ]
  },
  {
   "cell_type": "code",
   "execution_count": 8,
   "metadata": {},
   "outputs": [
    {
     "name": "stdout",
     "output_type": "stream",
     "text": [
      " Volume in drive D has no label.\n",
      " Volume Serial Number is 06DA-8863\n",
      "\n",
      " Directory of D:\\Machine Learning\\Boston Dataset\n",
      "\n",
      "05/17/2022  09:33 AM    <DIR>          .\n",
      "05/17/2022  09:33 AM    <DIR>          ..\n",
      "05/13/2022  07:55 PM    <DIR>          .ipynb_checkpoints\n",
      "05/12/2022  10:18 PM            49,082 Housing.csv\n",
      "05/17/2022  09:33 AM        14,953,717 Shirsh Verma-M3W2D3 - Assignment - Decision Trees.ipynb\n",
      "               2 File(s)     15,002,799 bytes\n",
      "               3 Dir(s)  239,270,653,952 bytes free\n"
     ]
    }
   ],
   "source": [
    "ls"
   ]
  },
  {
   "cell_type": "code",
   "execution_count": 9,
   "metadata": {
    "executionInfo": {
     "elapsed": 1344,
     "status": "ok",
     "timestamp": 1617956047588,
     "user": {
      "displayName": "Shirsh Verma",
      "photoUrl": "https://lh3.googleusercontent.com/a-/AOh14GhPLpEyJ0Len-wf-GYu2XCjcBmBwN36DYW6um_AoA=s64",
      "userId": "01160753604566297810"
     },
     "user_tz": -330
    },
    "id": "Ez429YClr8qd"
   },
   "outputs": [],
   "source": [
    "#loading dataset\n",
    "data= pd.read_csv('Housing.csv',delim_whitespace=True,header=None,\n",
    "                   names=['CRIM','ZN','INDUS','CHAS',\n",
    "                          'NOX','RM','AGE','DIS','RAD','TAX',\n",
    "                        'PTRATIO','B','LSTAT','MEDV' ] )"
   ]
  },
  {
   "cell_type": "code",
   "execution_count": 10,
   "metadata": {
    "colab": {
     "base_uri": "https://localhost:8080/",
     "height": 206
    },
    "executionInfo": {
     "elapsed": 1300,
     "status": "ok",
     "timestamp": 1617956055292,
     "user": {
      "displayName": "Shirsh Verma",
      "photoUrl": "https://lh3.googleusercontent.com/a-/AOh14GhPLpEyJ0Len-wf-GYu2XCjcBmBwN36DYW6um_AoA=s64",
      "userId": "01160753604566297810"
     },
     "user_tz": -330
    },
    "id": "5SdqdrP8sgVD",
    "outputId": "61060a66-d769-45c6-b7b5-64569809c78b"
   },
   "outputs": [
    {
     "data": {
      "text/html": [
       "<div>\n",
       "<style scoped>\n",
       "    .dataframe tbody tr th:only-of-type {\n",
       "        vertical-align: middle;\n",
       "    }\n",
       "\n",
       "    .dataframe tbody tr th {\n",
       "        vertical-align: top;\n",
       "    }\n",
       "\n",
       "    .dataframe thead th {\n",
       "        text-align: right;\n",
       "    }\n",
       "</style>\n",
       "<table border=\"1\" class=\"dataframe\">\n",
       "  <thead>\n",
       "    <tr style=\"text-align: right;\">\n",
       "      <th></th>\n",
       "      <th>CRIM</th>\n",
       "      <th>ZN</th>\n",
       "      <th>INDUS</th>\n",
       "      <th>CHAS</th>\n",
       "      <th>NOX</th>\n",
       "      <th>RM</th>\n",
       "      <th>AGE</th>\n",
       "      <th>DIS</th>\n",
       "      <th>RAD</th>\n",
       "      <th>TAX</th>\n",
       "      <th>PTRATIO</th>\n",
       "      <th>B</th>\n",
       "      <th>LSTAT</th>\n",
       "      <th>MEDV</th>\n",
       "    </tr>\n",
       "  </thead>\n",
       "  <tbody>\n",
       "    <tr>\n",
       "      <th>0</th>\n",
       "      <td>0.00632</td>\n",
       "      <td>18.0</td>\n",
       "      <td>2.31</td>\n",
       "      <td>0</td>\n",
       "      <td>0.538</td>\n",
       "      <td>6.575</td>\n",
       "      <td>65.2</td>\n",
       "      <td>4.0900</td>\n",
       "      <td>1</td>\n",
       "      <td>296.0</td>\n",
       "      <td>15.3</td>\n",
       "      <td>396.90</td>\n",
       "      <td>4.98</td>\n",
       "      <td>24.0</td>\n",
       "    </tr>\n",
       "    <tr>\n",
       "      <th>1</th>\n",
       "      <td>0.02731</td>\n",
       "      <td>0.0</td>\n",
       "      <td>7.07</td>\n",
       "      <td>0</td>\n",
       "      <td>0.469</td>\n",
       "      <td>6.421</td>\n",
       "      <td>78.9</td>\n",
       "      <td>4.9671</td>\n",
       "      <td>2</td>\n",
       "      <td>242.0</td>\n",
       "      <td>17.8</td>\n",
       "      <td>396.90</td>\n",
       "      <td>9.14</td>\n",
       "      <td>21.6</td>\n",
       "    </tr>\n",
       "    <tr>\n",
       "      <th>2</th>\n",
       "      <td>0.02729</td>\n",
       "      <td>0.0</td>\n",
       "      <td>7.07</td>\n",
       "      <td>0</td>\n",
       "      <td>0.469</td>\n",
       "      <td>7.185</td>\n",
       "      <td>61.1</td>\n",
       "      <td>4.9671</td>\n",
       "      <td>2</td>\n",
       "      <td>242.0</td>\n",
       "      <td>17.8</td>\n",
       "      <td>392.83</td>\n",
       "      <td>4.03</td>\n",
       "      <td>34.7</td>\n",
       "    </tr>\n",
       "    <tr>\n",
       "      <th>3</th>\n",
       "      <td>0.03237</td>\n",
       "      <td>0.0</td>\n",
       "      <td>2.18</td>\n",
       "      <td>0</td>\n",
       "      <td>0.458</td>\n",
       "      <td>6.998</td>\n",
       "      <td>45.8</td>\n",
       "      <td>6.0622</td>\n",
       "      <td>3</td>\n",
       "      <td>222.0</td>\n",
       "      <td>18.7</td>\n",
       "      <td>394.63</td>\n",
       "      <td>2.94</td>\n",
       "      <td>33.4</td>\n",
       "    </tr>\n",
       "    <tr>\n",
       "      <th>4</th>\n",
       "      <td>0.06905</td>\n",
       "      <td>0.0</td>\n",
       "      <td>2.18</td>\n",
       "      <td>0</td>\n",
       "      <td>0.458</td>\n",
       "      <td>7.147</td>\n",
       "      <td>54.2</td>\n",
       "      <td>6.0622</td>\n",
       "      <td>3</td>\n",
       "      <td>222.0</td>\n",
       "      <td>18.7</td>\n",
       "      <td>396.90</td>\n",
       "      <td>5.33</td>\n",
       "      <td>36.2</td>\n",
       "    </tr>\n",
       "  </tbody>\n",
       "</table>\n",
       "</div>"
      ],
      "text/plain": [
       "      CRIM    ZN  INDUS  CHAS    NOX     RM   AGE     DIS  RAD    TAX  \\\n",
       "0  0.00632  18.0   2.31     0  0.538  6.575  65.2  4.0900    1  296.0   \n",
       "1  0.02731   0.0   7.07     0  0.469  6.421  78.9  4.9671    2  242.0   \n",
       "2  0.02729   0.0   7.07     0  0.469  7.185  61.1  4.9671    2  242.0   \n",
       "3  0.03237   0.0   2.18     0  0.458  6.998  45.8  6.0622    3  222.0   \n",
       "4  0.06905   0.0   2.18     0  0.458  7.147  54.2  6.0622    3  222.0   \n",
       "\n",
       "   PTRATIO       B  LSTAT  MEDV  \n",
       "0     15.3  396.90   4.98  24.0  \n",
       "1     17.8  396.90   9.14  21.6  \n",
       "2     17.8  392.83   4.03  34.7  \n",
       "3     18.7  394.63   2.94  33.4  \n",
       "4     18.7  396.90   5.33  36.2  "
      ]
     },
     "execution_count": 10,
     "metadata": {},
     "output_type": "execute_result"
    }
   ],
   "source": [
    "data.head()"
   ]
  },
  {
   "cell_type": "code",
   "execution_count": 11,
   "metadata": {
    "colab": {
     "base_uri": "https://localhost:8080/"
    },
    "executionInfo": {
     "elapsed": 709,
     "status": "ok",
     "timestamp": 1617956136639,
     "user": {
      "displayName": "Shirsh Verma",
      "photoUrl": "https://lh3.googleusercontent.com/a-/AOh14GhPLpEyJ0Len-wf-GYu2XCjcBmBwN36DYW6um_AoA=s64",
      "userId": "01160753604566297810"
     },
     "user_tz": -330
    },
    "id": "cuhnpqAvsiGm",
    "outputId": "fdfeeab8-0791-4e3a-8a34-f81489c8daef"
   },
   "outputs": [
    {
     "data": {
      "text/plain": [
       "(506, 14)"
      ]
     },
     "execution_count": 11,
     "metadata": {},
     "output_type": "execute_result"
    }
   ],
   "source": [
    "data.shape"
   ]
  },
  {
   "cell_type": "code",
   "execution_count": 12,
   "metadata": {
    "colab": {
     "base_uri": "https://localhost:8080/",
     "height": 320
    },
    "executionInfo": {
     "elapsed": 1586,
     "status": "ok",
     "timestamp": 1617956165026,
     "user": {
      "displayName": "Shirsh Verma",
      "photoUrl": "https://lh3.googleusercontent.com/a-/AOh14GhPLpEyJ0Len-wf-GYu2XCjcBmBwN36DYW6um_AoA=s64",
      "userId": "01160753604566297810"
     },
     "user_tz": -330
    },
    "id": "9uRGTxaps2NK",
    "outputId": "c32f190c-5f7e-4976-b899-a86892dc730e"
   },
   "outputs": [
    {
     "data": {
      "text/plain": [
       "<AxesSubplot:>"
      ]
     },
     "execution_count": 12,
     "metadata": {},
     "output_type": "execute_result"
    },
    {
     "data": {
      "image/png": "[encoded data removed]",
      "text/plain": [
       "<Figure size 432x288 with 2 Axes>"
      ]
     },
     "metadata": {
      "needs_background": "light"
     },
     "output_type": "display_data"
    }
   ],
   "source": [
    "import seaborn as sns\n",
    "sns.heatmap(data.isnull())"
   ]
  },
  {
   "cell_type": "markdown",
   "metadata": {
    "id": "iXibwdpEtJyM"
   },
   "source": [
    "No nulls"
   ]
  },
  {
   "cell_type": "code",
   "execution_count": 13,
   "metadata": {
    "colab": {
     "base_uri": "https://localhost:8080/",
     "height": 320
    },
    "executionInfo": {
     "elapsed": 1286,
     "status": "ok",
     "timestamp": 1617956188721,
     "user": {
      "displayName": "Shirsh Verma",
      "photoUrl": "https://lh3.googleusercontent.com/a-/AOh14GhPLpEyJ0Len-wf-GYu2XCjcBmBwN36DYW6um_AoA=s64",
      "userId": "01160753604566297810"
     },
     "user_tz": -330
    },
    "id": "__brPH3ms8xH",
    "outputId": "eae6411f-ce95-49d6-d63e-365644950594"
   },
   "outputs": [
    {
     "data": {
      "text/html": [
       "<div>\n",
       "<style scoped>\n",
       "    .dataframe tbody tr th:only-of-type {\n",
       "        vertical-align: middle;\n",
       "    }\n",
       "\n",
       "    .dataframe tbody tr th {\n",
       "        vertical-align: top;\n",
       "    }\n",
       "\n",
       "    .dataframe thead th {\n",
       "        text-align: right;\n",
       "    }\n",
       "</style>\n",
       "<table border=\"1\" class=\"dataframe\">\n",
       "  <thead>\n",
       "    <tr style=\"text-align: right;\">\n",
       "      <th></th>\n",
       "      <th>CRIM</th>\n",
       "      <th>ZN</th>\n",
       "      <th>INDUS</th>\n",
       "      <th>CHAS</th>\n",
       "      <th>NOX</th>\n",
       "      <th>RM</th>\n",
       "      <th>AGE</th>\n",
       "      <th>DIS</th>\n",
       "      <th>RAD</th>\n",
       "      <th>TAX</th>\n",
       "      <th>PTRATIO</th>\n",
       "      <th>B</th>\n",
       "      <th>LSTAT</th>\n",
       "      <th>MEDV</th>\n",
       "    </tr>\n",
       "  </thead>\n",
       "  <tbody>\n",
       "    <tr>\n",
       "      <th>count</th>\n",
       "      <td>506.000000</td>\n",
       "      <td>506.000000</td>\n",
       "      <td>506.000000</td>\n",
       "      <td>506.000000</td>\n",
       "      <td>506.000000</td>\n",
       "      <td>506.000000</td>\n",
       "      <td>506.000000</td>\n",
       "      <td>506.000000</td>\n",
       "      <td>506.000000</td>\n",
       "      <td>506.000000</td>\n",
       "      <td>506.000000</td>\n",
       "      <td>506.000000</td>\n",
       "      <td>506.000000</td>\n",
       "      <td>506.000000</td>\n",
       "    </tr>\n",
       "    <tr>\n",
       "      <th>mean</th>\n",
       "      <td>3.613524</td>\n",
       "      <td>11.363636</td>\n",
       "      <td>11.136779</td>\n",
       "      <td>0.069170</td>\n",
       "      <td>0.554695</td>\n",
       "      <td>6.284634</td>\n",
       "      <td>68.574901</td>\n",
       "      <td>3.795043</td>\n",
       "      <td>9.549407</td>\n",
       "      <td>408.237154</td>\n",
       "      <td>18.455534</td>\n",
       "      <td>356.674032</td>\n",
       "      <td>12.653063</td>\n",
       "      <td>22.532806</td>\n",
       "    </tr>\n",
       "    <tr>\n",
       "      <th>std</th>\n",
       "      <td>8.601545</td>\n",
       "      <td>23.322453</td>\n",
       "      <td>6.860353</td>\n",
       "      <td>0.253994</td>\n",
       "      <td>0.115878</td>\n",
       "      <td>0.702617</td>\n",
       "      <td>28.148861</td>\n",
       "      <td>2.105710</td>\n",
       "      <td>8.707259</td>\n",
       "      <td>168.537116</td>\n",
       "      <td>2.164946</td>\n",
       "      <td>91.294864</td>\n",
       "      <td>7.141062</td>\n",
       "      <td>9.197104</td>\n",
       "    </tr>\n",
       "    <tr>\n",
       "      <th>min</th>\n",
       "      <td>0.006320</td>\n",
       "      <td>0.000000</td>\n",
       "      <td>0.460000</td>\n",
       "      <td>0.000000</td>\n",
       "      <td>0.385000</td>\n",
       "      <td>3.561000</td>\n",
       "      <td>2.900000</td>\n",
       "      <td>1.129600</td>\n",
       "      <td>1.000000</td>\n",
       "      <td>187.000000</td>\n",
       "      <td>12.600000</td>\n",
       "      <td>0.320000</td>\n",
       "      <td>1.730000</td>\n",
       "      <td>5.000000</td>\n",
       "    </tr>\n",
       "    <tr>\n",
       "      <th>25%</th>\n",
       "      <td>0.082045</td>\n",
       "      <td>0.000000</td>\n",
       "      <td>5.190000</td>\n",
       "      <td>0.000000</td>\n",
       "      <td>0.449000</td>\n",
       "      <td>5.885500</td>\n",
       "      <td>45.025000</td>\n",
       "      <td>2.100175</td>\n",
       "      <td>4.000000</td>\n",
       "      <td>279.000000</td>\n",
       "      <td>17.400000</td>\n",
       "      <td>375.377500</td>\n",
       "      <td>6.950000</td>\n",
       "      <td>17.025000</td>\n",
       "    </tr>\n",
       "    <tr>\n",
       "      <th>50%</th>\n",
       "      <td>0.256510</td>\n",
       "      <td>0.000000</td>\n",
       "      <td>9.690000</td>\n",
       "      <td>0.000000</td>\n",
       "      <td>0.538000</td>\n",
       "      <td>6.208500</td>\n",
       "      <td>77.500000</td>\n",
       "      <td>3.207450</td>\n",
       "      <td>5.000000</td>\n",
       "      <td>330.000000</td>\n",
       "      <td>19.050000</td>\n",
       "      <td>391.440000</td>\n",
       "      <td>11.360000</td>\n",
       "      <td>21.200000</td>\n",
       "    </tr>\n",
       "    <tr>\n",
       "      <th>75%</th>\n",
       "      <td>3.677083</td>\n",
       "      <td>12.500000</td>\n",
       "      <td>18.100000</td>\n",
       "      <td>0.000000</td>\n",
       "      <td>0.624000</td>\n",
       "      <td>6.623500</td>\n",
       "      <td>94.075000</td>\n",
       "      <td>5.188425</td>\n",
       "      <td>24.000000</td>\n",
       "      <td>666.000000</td>\n",
       "      <td>20.200000</td>\n",
       "      <td>396.225000</td>\n",
       "      <td>16.955000</td>\n",
       "      <td>25.000000</td>\n",
       "    </tr>\n",
       "    <tr>\n",
       "      <th>max</th>\n",
       "      <td>88.976200</td>\n",
       "      <td>100.000000</td>\n",
       "      <td>27.740000</td>\n",
       "      <td>1.000000</td>\n",
       "      <td>0.871000</td>\n",
       "      <td>8.780000</td>\n",
       "      <td>100.000000</td>\n",
       "      <td>12.126500</td>\n",
       "      <td>24.000000</td>\n",
       "      <td>711.000000</td>\n",
       "      <td>22.000000</td>\n",
       "      <td>396.900000</td>\n",
       "      <td>37.970000</td>\n",
       "      <td>50.000000</td>\n",
       "    </tr>\n",
       "  </tbody>\n",
       "</table>\n",
       "</div>"
      ],
      "text/plain": [
       "             CRIM          ZN       INDUS        CHAS         NOX          RM  \\\n",
       "count  506.000000  506.000000  506.000000  506.000000  506.000000  506.000000   \n",
       "mean     3.613524   11.363636   11.136779    0.069170    0.554695    6.284634   \n",
       "std      8.601545   23.322453    6.860353    0.253994    0.115878    0.702617   \n",
       "min      0.006320    0.000000    0.460000    0.000000    0.385000    3.561000   \n",
       "25%      0.082045    0.000000    5.190000    0.000000    0.449000    5.885500   \n",
       "50%      0.256510    0.000000    9.690000    0.000000    0.538000    6.208500   \n",
       "75%      3.677083   12.500000   18.100000    0.000000    0.624000    6.623500   \n",
       "max     88.976200  100.000000   27.740000    1.000000    0.871000    8.780000   \n",
       "\n",
       "              AGE         DIS         RAD         TAX     PTRATIO           B  \\\n",
       "count  506.000000  506.000000  506.000000  506.000000  506.000000  506.000000   \n",
       "mean    68.574901    3.795043    9.549407  408.237154   18.455534  356.674032   \n",
       "std     28.148861    2.105710    8.707259  168.537116    2.164946   91.294864   \n",
       "min      2.900000    1.129600    1.000000  187.000000   12.600000    0.320000   \n",
       "25%     45.025000    2.100175    4.000000  279.000000   17.400000  375.377500   \n",
       "50%     77.500000    3.207450    5.000000  330.000000   19.050000  391.440000   \n",
       "75%     94.075000    5.188425   24.000000  666.000000   20.200000  396.225000   \n",
       "max    100.000000   12.126500   24.000000  711.000000   22.000000  396.900000   \n",
       "\n",
       "            LSTAT        MEDV  \n",
       "count  506.000000  506.000000  \n",
       "mean    12.653063   22.532806  \n",
       "std      7.141062    9.197104  \n",
       "min      1.730000    5.000000  \n",
       "25%      6.950000   17.025000  \n",
       "50%     11.360000   21.200000  \n",
       "75%     16.955000   25.000000  \n",
       "max     37.970000   50.000000  "
      ]
     },
     "execution_count": 13,
     "metadata": {},
     "output_type": "execute_result"
    }
   ],
   "source": [
    "#stats\n",
    "data.describe()"
   ]
  },
  {
   "cell_type": "code",
   "execution_count": 14,
   "metadata": {
    "executionInfo": {
     "elapsed": 1600,
     "status": "ok",
     "timestamp": 1617956277688,
     "user": {
      "displayName": "Shirsh Verma",
      "photoUrl": "https://lh3.googleusercontent.com/a-/AOh14GhPLpEyJ0Len-wf-GYu2XCjcBmBwN36DYW6um_AoA=s64",
      "userId": "01160753604566297810"
     },
     "user_tz": -330
    },
    "id": "c-eqXqBHtCi9"
   },
   "outputs": [],
   "source": [
    "#defining Independent and dependent variables\n",
    "X= data.drop('MEDV',axis=1)\n",
    "y= data['MEDV']"
   ]
  },
  {
   "cell_type": "code",
   "execution_count": 15,
   "metadata": {
    "executionInfo": {
     "elapsed": 1280,
     "status": "ok",
     "timestamp": 1617956493373,
     "user": {
      "displayName": "Shirsh Verma",
      "photoUrl": "https://lh3.googleusercontent.com/a-/AOh14GhPLpEyJ0Len-wf-GYu2XCjcBmBwN36DYW6um_AoA=s64",
      "userId": "01160753604566297810"
     },
     "user_tz": -330
    },
    "id": "5bmaMF1PtYOA"
   },
   "outputs": [],
   "source": [
    "#splitting into train test\n",
    "X_train, X_test, y_train, y_test = train_test_split(X, y, test_size=0.33, random_state=7)"
   ]
  },
  {
   "cell_type": "code",
   "execution_count": 16,
   "metadata": {
    "colab": {
     "base_uri": "https://localhost:8080/"
    },
    "executionInfo": {
     "elapsed": 839,
     "status": "ok",
     "timestamp": 1617956494786,
     "user": {
      "displayName": "Shirsh Verma",
      "photoUrl": "https://lh3.googleusercontent.com/a-/AOh14GhPLpEyJ0Len-wf-GYu2XCjcBmBwN36DYW6um_AoA=s64",
      "userId": "01160753604566297810"
     },
     "user_tz": -330
    },
    "id": "CY2p8qt5tu8K",
    "outputId": "46820efe-f006-41ca-823c-3de0d0956a93"
   },
   "outputs": [
    {
     "name": "stdout",
     "output_type": "stream",
     "text": [
      "(339, 13)\n",
      "(167, 13)\n"
     ]
    }
   ],
   "source": [
    "print(X_train.shape)\n",
    "print(X_test.shape)"
   ]
  },
  {
   "cell_type": "code",
   "execution_count": 17,
   "metadata": {
    "colab": {
     "base_uri": "https://localhost:8080/"
    },
    "executionInfo": {
     "elapsed": 1327,
     "status": "ok",
     "timestamp": 1617956585230,
     "user": {
      "displayName": "Shirsh Verma",
      "photoUrl": "https://lh3.googleusercontent.com/a-/AOh14GhPLpEyJ0Len-wf-GYu2XCjcBmBwN36DYW6um_AoA=s64",
      "userId": "01160753604566297810"
     },
     "user_tz": -330
    },
    "id": "tKrW1Ji4uK-D",
    "outputId": "8488fcd8-9bf5-4e7e-e145-681e5945107e"
   },
   "outputs": [
    {
     "data": {
      "text/plain": [
       "DecisionTreeRegressor(max_leaf_nodes=10, random_state=0)"
      ]
     },
     "execution_count": 17,
     "metadata": {},
     "output_type": "execute_result"
    }
   ],
   "source": [
    "#fitting\n",
    "dtreg = DecisionTreeRegressor(criterion='mse', max_leaf_nodes=10, random_state=0)\n",
    "dtreg.fit(X_train, y_train)"
   ]
  },
  {
   "cell_type": "code",
   "execution_count": 18,
   "metadata": {
    "executionInfo": {
     "elapsed": 3199,
     "status": "ok",
     "timestamp": 1617956727934,
     "user": {
      "displayName": "Shirsh Verma",
      "photoUrl": "https://lh3.googleusercontent.com/a-/AOh14GhPLpEyJ0Len-wf-GYu2XCjcBmBwN36DYW6um_AoA=s64",
      "userId": "01160753604566297810"
     },
     "user_tz": -330
    },
    "id": "JxcImUCXucKW"
   },
   "outputs": [],
   "source": [
    "#price predictions\n",
    "y_pred = dtreg.predict(X_test)"
   ]
  },
  {
   "cell_type": "code",
   "execution_count": 19,
   "metadata": {
    "colab": {
     "base_uri": "https://localhost:8080/"
    },
    "executionInfo": {
     "elapsed": 1245,
     "status": "ok",
     "timestamp": 1617957168943,
     "user": {
      "displayName": "Shirsh Verma",
      "photoUrl": "https://lh3.googleusercontent.com/a-/AOh14GhPLpEyJ0Len-wf-GYu2XCjcBmBwN36DYW6um_AoA=s64",
      "userId": "01160753604566297810"
     },
     "user_tz": -330
    },
    "id": "nGc4iEQCwvSY",
    "outputId": "7ef9ed24-ca5b-4854-aab0-ef4f8b5874b9"
   },
   "outputs": [
    {
     "data": {
      "text/plain": [
       "array([21.59193548, 21.59193548, 21.59193548, 21.59193548, 11.90740741,\n",
       "       11.90740741, 21.59193548, 21.59193548, 21.59193548, 17.74027778])"
      ]
     },
     "execution_count": 19,
     "metadata": {},
     "output_type": "execute_result"
    }
   ],
   "source": [
    "y_pred[:10]"
   ]
  },
  {
   "cell_type": "code",
   "execution_count": 20,
   "metadata": {
    "colab": {
     "base_uri": "https://localhost:8080/"
    },
    "executionInfo": {
     "elapsed": 1560,
     "status": "ok",
     "timestamp": 1617957207659,
     "user": {
      "displayName": "Shirsh Verma",
      "photoUrl": "https://lh3.googleusercontent.com/a-/AOh14GhPLpEyJ0Len-wf-GYu2XCjcBmBwN36DYW6um_AoA=s64",
      "userId": "01160753604566297810"
     },
     "user_tz": -330
    },
    "id": "RquxHqN3w0gF",
    "outputId": "66a2dab6-6d90-4630-e0c5-8668510fd3f6"
   },
   "outputs": [
    {
     "data": {
      "text/plain": [
       "array([21.7, 18.5, 22.2, 20.4,  8.8,  8.3, 21.4, 23.6, 23.5, 19. ])"
      ]
     },
     "execution_count": 20,
     "metadata": {},
     "output_type": "execute_result"
    }
   ],
   "source": [
    "y_test[:10].values"
   ]
  },
  {
   "cell_type": "markdown",
   "metadata": {
    "id": "YEYGALNwv8aG"
   },
   "source": [
    "### Model evaluation"
   ]
  },
  {
   "cell_type": "code",
   "execution_count": 21,
   "metadata": {
    "executionInfo": {
     "elapsed": 1496,
     "status": "ok",
     "timestamp": 1617957535988,
     "user": {
      "displayName": "Shirsh Verma",
      "photoUrl": "https://lh3.googleusercontent.com/a-/AOh14GhPLpEyJ0Len-wf-GYu2XCjcBmBwN36DYW6um_AoA=s64",
      "userId": "01160753604566297810"
     },
     "user_tz": -330
    },
    "id": "tJJ9OGmZyGud"
   },
   "outputs": [],
   "source": [
    "y_pred_train= dtreg.predict(X_train)"
   ]
  },
  {
   "cell_type": "code",
   "execution_count": 22,
   "metadata": {
    "executionInfo": {
     "elapsed": 1617,
     "status": "ok",
     "timestamp": 1617957467519,
     "user": {
      "displayName": "Shirsh Verma",
      "photoUrl": "https://lh3.googleusercontent.com/a-/AOh14GhPLpEyJ0Len-wf-GYu2XCjcBmBwN36DYW6um_AoA=s64",
      "userId": "01160753604566297810"
     },
     "user_tz": -330
    },
    "id": "nCeM_xtQvE5-"
   },
   "outputs": [],
   "source": [
    "import math\n",
    "import numpy as np\n",
    "from sklearn.metrics import r2_score\n",
    "from sklearn.metrics import mean_squared_error\n",
    "from sklearn.metrics import mean_absolute_error"
   ]
  },
  {
   "cell_type": "code",
   "execution_count": 23,
   "metadata": {
    "executionInfo": {
     "elapsed": 1492,
     "status": "ok",
     "timestamp": 1617957487042,
     "user": {
      "displayName": "Shirsh Verma",
      "photoUrl": "https://lh3.googleusercontent.com/a-/AOh14GhPLpEyJ0Len-wf-GYu2XCjcBmBwN36DYW6um_AoA=s64",
      "userId": "01160753604566297810"
     },
     "user_tz": -330
    },
    "id": "01ZplWdHxqwQ"
   },
   "outputs": [],
   "source": [
    "def print_metrics(actual, predicted):\n",
    "  print('MSE is {}'.format(mean_squared_error(actual, predicted)))\n",
    "  print('RMSE is {}'.format(math.sqrt(mean_squared_error(actual, predicted))))\n",
    "  print('R2 score is {}'.format(r2_score(actual, predicted)))\n",
    "  print('MAE is {}'.format(mean_absolute_error(actual, predicted)))\n",
    "  print('MAPE is {}'.format(np.mean(np.abs((actual - predicted) / actual)) * 100))\n",
    "  "
   ]
  },
  {
   "cell_type": "code",
   "execution_count": 24,
   "metadata": {
    "colab": {
     "base_uri": "https://localhost:8080/"
    },
    "executionInfo": {
     "elapsed": 1920,
     "status": "ok",
     "timestamp": 1617957564804,
     "user": {
      "displayName": "Shirsh Verma",
      "photoUrl": "https://lh3.googleusercontent.com/a-/AOh14GhPLpEyJ0Len-wf-GYu2XCjcBmBwN36DYW6um_AoA=s64",
      "userId": "01160753604566297810"
     },
     "user_tz": -330
    },
    "id": "dnLx5FfEyOP8",
    "outputId": "858a097a-aec9-4d2c-a17b-13af45c2c132"
   },
   "outputs": [
    {
     "name": "stdout",
     "output_type": "stream",
     "text": [
      "MSE is 11.657851152772055\n",
      "RMSE is 3.4143595523570824\n",
      "R2 score is 0.868401964853241\n",
      "MAE is 2.6486151092393357\n",
      "MAPE is 14.257131443636187\n"
     ]
    }
   ],
   "source": [
    "# Training dataset metrics\n",
    "print_metrics(y_train, y_pred_train)"
   ]
  },
  {
   "cell_type": "code",
   "execution_count": 25,
   "metadata": {
    "colab": {
     "base_uri": "https://localhost:8080/"
    },
    "executionInfo": {
     "elapsed": 1470,
     "status": "ok",
     "timestamp": 1617957489378,
     "user": {
      "displayName": "Shirsh Verma",
      "photoUrl": "https://lh3.googleusercontent.com/a-/AOh14GhPLpEyJ0Len-wf-GYu2XCjcBmBwN36DYW6um_AoA=s64",
      "userId": "01160753604566297810"
     },
     "user_tz": -330
    },
    "id": "K_ubcDhJxxWO",
    "outputId": "d670505a-fec9-49e2-c62f-7cbec5af54bb"
   },
   "outputs": [
    {
     "name": "stdout",
     "output_type": "stream",
     "text": [
      "MSE is 21.854029654669034\n",
      "RMSE is 4.674829371717115\n",
      "R2 score is 0.7120130583952584\n",
      "MAE is 3.1114314738421367\n",
      "MAPE is 16.499978934295783\n"
     ]
    }
   ],
   "source": [
    "# Test dataset metrics\n",
    "print_metrics(y_test, y_pred)"
   ]
  },
  {
   "cell_type": "code",
   "execution_count": 26,
   "metadata": {
    "executionInfo": {
     "elapsed": 1287,
     "status": "ok",
     "timestamp": 1617957626881,
     "user": {
      "displayName": "Shirsh Verma",
      "photoUrl": "https://lh3.googleusercontent.com/a-/AOh14GhPLpEyJ0Len-wf-GYu2XCjcBmBwN36DYW6um_AoA=s64",
      "userId": "01160753604566297810"
     },
     "user_tz": -330
    },
    "id": "g_DjpT04x3Xu"
   },
   "outputs": [],
   "source": [
    "# Adjusted R2\n",
    "\n",
    "def adjusted_r2(n, k, actual, predicted):\n",
    "  return 1 - (((n-1)/(n-k-1))*(1-r2_score(actual, predicted)))"
   ]
  },
  {
   "cell_type": "code",
   "execution_count": 27,
   "metadata": {
    "colab": {
     "base_uri": "https://localhost:8080/"
    },
    "executionInfo": {
     "elapsed": 1540,
     "status": "ok",
     "timestamp": 1617957648977,
     "user": {
      "displayName": "Shirsh Verma",
      "photoUrl": "https://lh3.googleusercontent.com/a-/AOh14GhPLpEyJ0Len-wf-GYu2XCjcBmBwN36DYW6um_AoA=s64",
      "userId": "01160753604566297810"
     },
     "user_tz": -330
    },
    "id": "W9_If2dqyh6K",
    "outputId": "29bb5b29-c865-4b19-9e9c-923443bf42f0"
   },
   "outputs": [
    {
     "data": {
      "text/plain": [
       "1.2647627135690747"
      ]
     },
     "execution_count": 27,
     "metadata": {},
     "output_type": "execute_result"
    }
   ],
   "source": [
    "#train set\n",
    "adjusted_r2(len(y_train),len(X), y_train, y_pred_train)\n"
   ]
  },
  {
   "cell_type": "code",
   "execution_count": 28,
   "metadata": {
    "colab": {
     "base_uri": "https://localhost:8080/"
    },
    "executionInfo": {
     "elapsed": 1500,
     "status": "ok",
     "timestamp": 1617957688960,
     "user": {
      "displayName": "Shirsh Verma",
      "photoUrl": "https://lh3.googleusercontent.com/a-/AOh14GhPLpEyJ0Len-wf-GYu2XCjcBmBwN36DYW6um_AoA=s64",
      "userId": "01160753604566297810"
     },
     "user_tz": -330
    },
    "id": "8B0JWg6hynPv",
    "outputId": "fabf5304-1b91-438b-ebb4-6f961ae5d811"
   },
   "outputs": [
    {
     "data": {
      "text/plain": [
       "1.1406053891364327"
      ]
     },
     "execution_count": 28,
     "metadata": {},
     "output_type": "execute_result"
    }
   ],
   "source": [
    "#test\n",
    "adjusted_r2(len(y_test),len(X), y_test, y_pred)"
   ]
  },
  {
   "cell_type": "markdown",
   "metadata": {
    "id": "SKRmeUh1z6Qj"
   },
   "source": [
    "##Hyper Parameter tuning"
   ]
  },
  {
   "cell_type": "code",
   "execution_count": 29,
   "metadata": {
    "executionInfo": {
     "elapsed": 4339,
     "status": "ok",
     "timestamp": 1617958188814,
     "user": {
      "displayName": "Shirsh Verma",
      "photoUrl": "https://lh3.googleusercontent.com/a-/AOh14GhPLpEyJ0Len-wf-GYu2XCjcBmBwN36DYW6um_AoA=s64",
      "userId": "01160753604566297810"
     },
     "user_tz": -330
    },
    "id": "aQvO7-wpz-1B"
   },
   "outputs": [],
   "source": [
    "parameters={\"splitter\":[\"best\",\"random\"],\n",
    "            \"max_depth\" : [1,3,5,7,9,11,12],\n",
    "           \"min_samples_leaf\":[1,2,3,4,5,6,7,8,9,10],\n",
    "           \"min_weight_fraction_leaf\":[0.1,0.2,0.3,0.4,0.5],\n",
    "           \"max_features\":[\"auto\",\"log2\",\"sqrt\",None],\n",
    "           \"max_leaf_nodes\":[None,10,20,30,40,50,60,70,80,90] }"
   ]
  },
  {
   "cell_type": "code",
   "execution_count": 30,
   "metadata": {
    "executionInfo": {
     "elapsed": 1946,
     "status": "ok",
     "timestamp": 1617958191605,
     "user": {
      "displayName": "Shirsh Verma",
      "photoUrl": "https://lh3.googleusercontent.com/a-/AOh14GhPLpEyJ0Len-wf-GYu2XCjcBmBwN36DYW6um_AoA=s64",
      "userId": "01160753604566297810"
     },
     "user_tz": -330
    },
    "id": "rGx4RXFLz-st"
   },
   "outputs": [],
   "source": [
    "from sklearn.model_selection import GridSearchCV\n",
    "tuning_model=GridSearchCV(dtreg,param_grid=parameters,scoring='neg_mean_squared_error',cv=3,verbose=3)"
   ]
  },
  {
   "cell_type": "code",
   "execution_count": null,
   "metadata": {},
   "outputs": [],
   "source": [
    "tuning_model.fit(X,y)"
   ]
  },
  {
   "cell_type": "code",
   "execution_count": 31,
   "metadata": {
    "colab": {
     "base_uri": "https://localhost:8080/"
    },
    "executionInfo": {
     "elapsed": 1549,
     "status": "ok",
     "timestamp": 1617958686757,
     "user": {
      "displayName": "Shirsh Verma",
      "photoUrl": "https://lh3.googleusercontent.com/a-/AOh14GhPLpEyJ0Len-wf-GYu2XCjcBmBwN36DYW6um_AoA=s64",
      "userId": "01160753604566297810"
     },
     "user_tz": -330
    },
    "id": "qIWIChHCz-gd",
    "outputId": "c6a6cb43-9874-4640-ac79-d08f8d7f09d9"
   },
   "outputs": [
    {
     "data": {
      "text/plain": [
       "{'max_depth': 5,\n",
       " 'max_features': 'auto',\n",
       " 'max_leaf_nodes': None,\n",
       " 'min_samples_leaf': 1,\n",
       " 'min_weight_fraction_leaf': 0.1,\n",
       " 'splitter': 'best'}"
      ]
     },
     "execution_count": 31,
     "metadata": {},
     "output_type": "execute_result"
    }
   ],
   "source": [
    "# best hyperparameters \n",
    "tuning_model.best_params_"
   ]
  },
  {
   "cell_type": "code",
   "execution_count": 32,
   "metadata": {
    "colab": {
     "base_uri": "https://localhost:8080/"
    },
    "executionInfo": {
     "elapsed": 1087,
     "status": "ok",
     "timestamp": 1617958692124,
     "user": {
      "displayName": "Shirsh Verma",
      "photoUrl": "https://lh3.googleusercontent.com/a-/AOh14GhPLpEyJ0Len-wf-GYu2XCjcBmBwN36DYW6um_AoA=s64",
      "userId": "01160753604566297810"
     },
     "user_tz": -330
    },
    "id": "4D_7Z5vq15zT",
    "outputId": "c35f4733-d9fe-4c7a-8386-ee57fe48a40e"
   },
   "outputs": [
    {
     "data": {
      "text/plain": [
       "-42.37507869137687"
      ]
     },
     "execution_count": 32,
     "metadata": {},
     "output_type": "execute_result"
    }
   ],
   "source": [
    "# best model score\n",
    "tuning_model.best_score_"
   ]
  },
  {
   "cell_type": "code",
   "execution_count": 33,
   "metadata": {
    "executionInfo": {
     "elapsed": 1604,
     "status": "ok",
     "timestamp": 1617958717472,
     "user": {
      "displayName": "Shirsh Verma",
      "photoUrl": "https://lh3.googleusercontent.com/a-/AOh14GhPLpEyJ0Len-wf-GYu2XCjcBmBwN36DYW6um_AoA=s64",
      "userId": "01160753604566297810"
     },
     "user_tz": -330
    },
    "id": "EHDiZS892bW7"
   },
   "outputs": [],
   "source": [
    "tuned_hyper_model= DecisionTreeRegressor(max_depth=5,max_features='auto',\n",
    "                                         max_leaf_nodes=None,min_samples_leaf=1,\n",
    "                                         min_weight_fraction_leaf=0.1,splitter='best')"
   ]
  },
  {
   "cell_type": "code",
   "execution_count": 34,
   "metadata": {
    "colab": {
     "base_uri": "https://localhost:8080/"
    },
    "executionInfo": {
     "elapsed": 1626,
     "status": "ok",
     "timestamp": 1617958733788,
     "user": {
      "displayName": "Shirsh Verma",
      "photoUrl": "https://lh3.googleusercontent.com/a-/AOh14GhPLpEyJ0Len-wf-GYu2XCjcBmBwN36DYW6um_AoA=s64",
      "userId": "01160753604566297810"
     },
     "user_tz": -330
    },
    "id": "t3O-Wl-X2szH",
    "outputId": "5cd84f56-e2ea-493f-aebf-84bcb8245f2d"
   },
   "outputs": [
    {
     "data": {
      "text/plain": [
       "DecisionTreeRegressor(max_depth=5, max_features='auto',\n",
       "                      min_weight_fraction_leaf=0.1)"
      ]
     },
     "execution_count": 34,
     "metadata": {},
     "output_type": "execute_result"
    }
   ],
   "source": [
    "# fitting model\n",
    "\n",
    "tuned_hyper_model.fit(X_train,y_train)"
   ]
  },
  {
   "cell_type": "code",
   "execution_count": 35,
   "metadata": {
    "executionInfo": {
     "elapsed": 1956,
     "status": "ok",
     "timestamp": 1617958753848,
     "user": {
      "displayName": "Shirsh Verma",
      "photoUrl": "https://lh3.googleusercontent.com/a-/AOh14GhPLpEyJ0Len-wf-GYu2XCjcBmBwN36DYW6um_AoA=s64",
      "userId": "01160753604566297810"
     },
     "user_tz": -330
    },
    "id": "wxkmkR6g2xz_"
   },
   "outputs": [],
   "source": [
    "# prediction \n",
    "\n",
    "tuned_pred=tuned_hyper_model.predict(X_test)"
   ]
  },
  {
   "cell_type": "code",
   "execution_count": 36,
   "metadata": {
    "colab": {
     "base_uri": "https://localhost:8080/"
    },
    "executionInfo": {
     "elapsed": 1356,
     "status": "ok",
     "timestamp": 1617958850355,
     "user": {
      "displayName": "Shirsh Verma",
      "photoUrl": "https://lh3.googleusercontent.com/a-/AOh14GhPLpEyJ0Len-wf-GYu2XCjcBmBwN36DYW6um_AoA=s64",
      "userId": "01160753604566297810"
     },
     "user_tz": -330
    },
    "id": "cBE0n8d02xpv",
    "outputId": "31d68b6e-5e3a-46ef-9de6-28efdf82897c"
   },
   "outputs": [
    {
     "name": "stdout",
     "output_type": "stream",
     "text": [
      "MSE is 32.95416198731295\n",
      "RMSE is 5.740571573224478\n",
      "R2 score is 0.5657382883688955\n",
      "MAE is 3.683545121923072\n",
      "MAPE is 18.470694456975007\n"
     ]
    }
   ],
   "source": [
    "# With hyperparameter tuned \n",
    "print_metrics(y_test,tuned_pred)"
   ]
  },
  {
   "cell_type": "markdown",
   "metadata": {
    "id": "QWLsxYah3XHt"
   },
   "source": [
    "##Conclusion:\n",
    "If we observe the above metrics for both the models, We got good metric values(MSE 26) without hyperparameter tuning model compare to model with hyper parameter tuning."
   ]
  }
 ],
 "metadata": {
  "colab": {
   "collapsed_sections": [],
   "name": "Shirsh Verma-M3W2D3 - Assignment - Decision Trees.ipynb",
   "provenance": [
    {
     "file_id": "1ckc5or80m-O5Pb5RvWZ0dCKlFIVy72Zc",
     "timestamp": 1617955332665
    },
    {
     "file_id": "1p27woFbXFpKTvjkNKvShDDxcN61m1rDY",
     "timestamp": 1605618414039
    }
   ]
  },
  "kernelspec": {
   "display_name": "Python 3 (ipykernel)",
   "language": "python",
   "name": "python3"
  },
  "language_info": {
   "codemirror_mode": {
    "name": "ipython",
    "version": 3
   },
   "file_extension": ".py",
   "mimetype": "text/x-python",
   "name": "python",
   "nbconvert_exporter": "python",
   "pygments_lexer": "ipython3",
   "version": "3.9.7"
  }
 },
 "nbformat": 4,
 "nbformat_minor": 1
}
